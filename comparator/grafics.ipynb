{
 "cells": [
  {
   "cell_type": "code",
   "execution_count": 1,
   "metadata": {},
   "outputs": [],
   "source": [
    "# grafics.py\n",
    "\n",
    "import pandas as pd\n",
    "import seaborn as sns"
   ]
  },
  {
   "cell_type": "code",
   "execution_count": 31,
   "metadata": {},
   "outputs": [
    {
     "name": "stdout",
     "output_type": "stream",
     "text": [
      "<class 'pandas.core.frame.DataFrame'>\n",
      "Int64Index: 88 entries, 0 to 21\n",
      "Data columns (total 10 columns):\n",
      " #   Column                     Non-Null Count  Dtype  \n",
      "---  ------                     --------------  -----  \n",
      " 0   Benchmark                  88 non-null     object \n",
      " 1   Mode                       88 non-null     object \n",
      " 2   Threads                    88 non-null     int64  \n",
      " 3   Samples                    88 non-null     int64  \n",
      " 4   Score                      88 non-null     float64\n",
      " 5   Score Error (99,9%)        72 non-null     object \n",
      " 6   Unit                       88 non-null     object \n",
      " 7   Param: dataset             88 non-null     object \n",
      " 8   Param: stringManipulation  88 non-null     object \n",
      " 9   Class                      88 non-null     object \n",
      "dtypes: float64(1), int64(2), object(7)\n",
      "memory usage: 7.6+ KB\n"
     ]
    }
   ],
   "source": [
    "bsr_df = pd.read_csv(\"../bsr_df.csv\")\n",
    "bsr_tfidf = pd.read_csv(\"../bsr_tfidf.csv\")\n",
    "tcr_df = pd.read_csv(\"../tcr_df.csv\")\n",
    "tcr_tfidf = pd.read_csv(\"../tcr_tfidf.csv\")\n",
    "\n",
    "dados = pd.concat([\n",
    "    bsr_df,\n",
    "    bsr_tfidf,\n",
    "    tcr_df,\n",
    "    tcr_tfidf\n",
    "])\n",
    "\n",
    "dados.Score = dados.Score.str.replace(',', '.').astype(float)\n",
    "dados.Benchmark = dados.Benchmark.str.removeprefix(\"jv.microbenchmark.runners.tfidf.\")\n",
    "dados[\"Class\"] = dados.Benchmark.str.split(\"Runner.\").str[0]\n",
    "dados[\"Benchmark\"] = dados.Benchmark.str.split(\"Runner.\").str[1]\n",
    "dados.dropna(subset = ['Score'], inplace=True) \n",
    "dados.info()"
   ]
  },
  {
   "cell_type": "code",
   "execution_count": 32,
   "metadata": {},
   "outputs": [
    {
     "data": {
      "text/html": [
       "<div>\n",
       "<style scoped>\n",
       "    .dataframe tbody tr th:only-of-type {\n",
       "        vertical-align: middle;\n",
       "    }\n",
       "\n",
       "    .dataframe tbody tr th {\n",
       "        vertical-align: top;\n",
       "    }\n",
       "\n",
       "    .dataframe thead th {\n",
       "        text-align: right;\n",
       "    }\n",
       "</style>\n",
       "<table border=\"1\" class=\"dataframe\">\n",
       "  <thead>\n",
       "    <tr style=\"text-align: right;\">\n",
       "      <th></th>\n",
       "      <th>Class</th>\n",
       "      <th>Benchmark</th>\n",
       "      <th>Score</th>\n",
       "      <th>Param: stringManipulation</th>\n",
       "    </tr>\n",
       "  </thead>\n",
       "  <tbody>\n",
       "    <tr>\n",
       "      <th>0</th>\n",
       "      <td>BasicSerial</td>\n",
       "      <td>compute_df</td>\n",
       "      <td>0.006104</td>\n",
       "      <td>foreach_java</td>\n",
       "    </tr>\n",
       "    <tr>\n",
       "      <th>11</th>\n",
       "      <td>BasicSerial</td>\n",
       "      <td>compute_df</td>\n",
       "      <td>0.009601</td>\n",
       "      <td>foreach_apache</td>\n",
       "    </tr>\n",
       "    <tr>\n",
       "      <th>0</th>\n",
       "      <td>BasicSerial</td>\n",
       "      <td>compute_tfidf</td>\n",
       "      <td>0.005964</td>\n",
       "      <td>foreach_java</td>\n",
       "    </tr>\n",
       "    <tr>\n",
       "      <th>11</th>\n",
       "      <td>BasicSerial</td>\n",
       "      <td>compute_tfidf</td>\n",
       "      <td>0.009229</td>\n",
       "      <td>foreach_apache</td>\n",
       "    </tr>\n",
       "    <tr>\n",
       "      <th>0</th>\n",
       "      <td>ThreadConcurrent</td>\n",
       "      <td>compute_df</td>\n",
       "      <td>0.017300</td>\n",
       "      <td>foreach_java</td>\n",
       "    </tr>\n",
       "    <tr>\n",
       "      <th>11</th>\n",
       "      <td>ThreadConcurrent</td>\n",
       "      <td>compute_df</td>\n",
       "      <td>0.025468</td>\n",
       "      <td>foreach_apache</td>\n",
       "    </tr>\n",
       "    <tr>\n",
       "      <th>0</th>\n",
       "      <td>ThreadConcurrent</td>\n",
       "      <td>compute_tfidf</td>\n",
       "      <td>0.019917</td>\n",
       "      <td>foreach_java</td>\n",
       "    </tr>\n",
       "    <tr>\n",
       "      <th>11</th>\n",
       "      <td>ThreadConcurrent</td>\n",
       "      <td>compute_tfidf</td>\n",
       "      <td>0.029790</td>\n",
       "      <td>foreach_apache</td>\n",
       "    </tr>\n",
       "  </tbody>\n",
       "</table>\n",
       "</div>"
      ],
      "text/plain": [
       "               Class      Benchmark     Score Param: stringManipulation\n",
       "0        BasicSerial     compute_df  0.006104              foreach_java\n",
       "11       BasicSerial     compute_df  0.009601            foreach_apache\n",
       "0        BasicSerial  compute_tfidf  0.005964              foreach_java\n",
       "11       BasicSerial  compute_tfidf  0.009229            foreach_apache\n",
       "0   ThreadConcurrent     compute_df  0.017300              foreach_java\n",
       "11  ThreadConcurrent     compute_df  0.025468            foreach_apache\n",
       "0   ThreadConcurrent  compute_tfidf  0.019917              foreach_java\n",
       "11  ThreadConcurrent  compute_tfidf  0.029790            foreach_apache"
      ]
     },
     "execution_count": 32,
     "metadata": {},
     "output_type": "execute_result"
    }
   ],
   "source": [
    "alvos=set([\"compute_df\", \"compute_tfidf\"])\n",
    "dados[dados[\"Benchmark\"].isin(alvos)][[\"Class\",\"Benchmark\", \"Score\", \"Param: stringManipulation\"]]"
   ]
  },
  {
   "cell_type": "code",
   "execution_count": 28,
   "metadata": {},
   "outputs": [
    {
     "data": {
      "image/png": "[encoded data removed]",
      "text/plain": [
       "<Figure size 571.5x432 with 1 Axes>"
      ]
     },
     "metadata": {
      "needs_background": "light"
     },
     "output_type": "display_data"
    }
   ],
   "source": [
    "alvos=set([\"compute_df\", \"compute_tfidf\"])\n",
    "g = sns.catplot(\n",
    "    data=dados[dados[\"Benchmark\"].isin(alvos)], kind=\"bar\", col=\"Class\",\n",
    "    x=\"Benchmark\", y=\"Score\", hue=\"Param: stringManipulation\",\n",
    "    ci=\"sd\", palette=\"dark\", alpha=.6, height=6, sharey=False,\n",
    "    # order=['BasicSerial', 'ThreadConcurrent']\n",
    ")"
   ]
  },
  {
   "cell_type": "code",
   "execution_count": null,
   "metadata": {},
   "outputs": [],
   "source": []
  },
  {
   "cell_type": "code",
   "execution_count": null,
   "metadata": {},
   "outputs": [],
   "source": []
  }
 ],
 "metadata": {
  "interpreter": {
   "hash": "7dd130a003f196a4da19dbb8045349ff41e7da5e6552e3abb2e10dc76c034255"
  },
  "kernelspec": {
   "display_name": "Python 3.8.10 ('env': venv)",
   "language": "python",
   "name": "python3"
  },
  "language_info": {
   "codemirror_mode": {
    "name": "ipython",
    "version": 3
   },
   "file_extension": ".py",
   "mimetype": "text/x-python",
   "name": "python",
   "nbconvert_exporter": "python",
   "pygments_lexer": "ipython3",
   "version": "3.8.10"
  },
  "orig_nbformat": 4
 },
 "nbformat": 4,
 "nbformat_minor": 2
}
